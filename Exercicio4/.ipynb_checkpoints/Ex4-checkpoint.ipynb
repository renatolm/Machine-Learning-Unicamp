{
 "cells": [
  {
   "cell_type": "markdown",
   "metadata": {},
   "source": [
    "# Exercício 4 - MO444 - Aprendizado de máquina\n",
    "### Nome: Renato Lopes Moura\n",
    "### RA: 163050"
   ]
  },
  {
   "cell_type": "markdown",
   "metadata": {},
   "source": [
    "Importando os módulos que serão utilizados no exercício."
   ]
  },
  {
   "cell_type": "code",
   "execution_count": 1,
   "metadata": {
    "collapsed": true
   },
   "outputs": [],
   "source": [
    "import numpy as np \n",
    "import pandas as pd \n",
    "from mpl_toolkits.mplot3d import Axes3D\n",
    "import matplotlib.pyplot as plt \n",
    "\n",
    "from sklearn import metrics\n",
    "from sklearn.cluster import KMeans"
   ]
  },
  {
   "cell_type": "markdown",
   "metadata": {},
   "source": [
    "Preparação dos dados para clusterização."
   ]
  },
  {
   "cell_type": "code",
   "execution_count": 2,
   "metadata": {
    "collapsed": true
   },
   "outputs": [],
   "source": [
    "#Carregando o conjunto de dados do csv usando o pandas\n",
    "data = pd.read_csv('cluster-data.csv')\n",
    "\n",
    "#Conversao para arrays do numpy\n",
    "array = data.values\n",
    "\n",
    "#Carregando o conjunto de classes dos dados do csv usando o pandas\n",
    "data_class = pd.read_csv('cluster-data-class.csv')\n",
    "\n",
    "#Conversao para arrays do numpy\n",
    "array_class = data_class.values"
   ]
  },
  {
   "cell_type": "markdown",
   "metadata": {},
   "source": [
    "Loop de clusterização pela métrica interna (Silhouette)"
   ]
  },
  {
   "cell_type": "code",
   "execution_count": 3,
   "metadata": {
    "collapsed": false
   },
   "outputs": [
    {
     "name": "stdout",
     "output_type": "stream",
     "text": [
      "k escolhido segundo a metrica interna: 2\n"
     ]
    }
   ],
   "source": [
    "#Inicializacao das variaveis que armazenarao o melhor k (numero de clusters)\n",
    "# e o melhor score interno\n",
    "internal_k = 0\n",
    "internal_score = 0\n",
    "\n",
    "#Loop de escolha do melhor k segundo a metrica interna (Silhouette)\n",
    "for k in range(2,11):\n",
    "\t\n",
    "\t#Instanciacao do KMeans e avaliacao do score da clusterizacao\n",
    "\tkmeans = KMeans(n_clusters=k, n_init=5, max_iter=1000, init='random').fit(array)\n",
    "\tlabels = kmeans.labels_\t\n",
    "\tcurrent_score = metrics.silhouette_score(array, labels, metric='euclidean')\n",
    "\n",
    "\t#Escolha do melhor k na avaliacao interna\n",
    "\tif current_score > internal_score:\n",
    "\t\tinternal_score = current_score\n",
    "\t\tinternal_k = k\n",
    "\n",
    "print \"k escolhido segundo a metrica interna: \"+str(internal_k)"
   ]
  },
  {
   "cell_type": "markdown",
   "metadata": {},
   "source": [
    "Loop de clusterização pela métrica externa (Adjusted Rand Score)"
   ]
  },
  {
   "cell_type": "code",
   "execution_count": 4,
   "metadata": {
    "collapsed": false
   },
   "outputs": [
    {
     "name": "stdout",
     "output_type": "stream",
     "text": [
      "k escolhido segundo a metrica externa: 4\n"
     ]
    }
   ],
   "source": [
    "#Inicializacao das variaveis que armazenarao o melhor k (numero de clusters)\n",
    "# e o melhor score externo\n",
    "external_k = 0\n",
    "external_score = 0\n",
    "\n",
    "#Loop de escolha do melhor k segundo a metrica interna (Silhouette)\n",
    "for k in range(2,11):\n",
    "\t\n",
    "\t#Instanciacao do KMeans e avaliacao do score da clusterizacao\n",
    "\tkmeans = KMeans(n_clusters=k, n_init=5, max_iter=1000, init='random').fit(array)\n",
    "\tlabels = kmeans.labels_\t\n",
    "\tcurrent_score = metrics.adjusted_rand_score(array_class[:,0], labels)\n",
    "\n",
    "\t#Escolha do melhor k na avaliacao interna\n",
    "\tif current_score > external_score:\n",
    "\t\texternal_score = current_score\n",
    "\t\texternal_k = k\n",
    "\n",
    "print \"k escolhido segundo a metrica externa: \"+str(external_k)"
   ]
  }
 ],
 "metadata": {
  "kernelspec": {
   "display_name": "Python [Root]",
   "language": "python",
   "name": "Python [Root]"
  },
  "language_info": {
   "codemirror_mode": {
    "name": "ipython",
    "version": 2
   },
   "file_extension": ".py",
   "mimetype": "text/x-python",
   "name": "python",
   "nbconvert_exporter": "python",
   "pygments_lexer": "ipython2",
   "version": "2.7.12"
  }
 },
 "nbformat": 4,
 "nbformat_minor": 0
}
