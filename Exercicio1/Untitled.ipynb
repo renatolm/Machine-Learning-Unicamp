{
 "cells": [
  {
   "cell_type": "markdown",
   "metadata": {},
   "source": [
    "# Exercício 1 - MO444 - Aprendizado de máquina\n",
    "### Nome: Renato Lopes Moura\n",
    "### RA: 163050\n"
   ]
  },
  {
   "cell_type": "markdown",
   "metadata": {},
   "source": [
    "Importando os módulos que serão utilizados no exercício"
   ]
  },
  {
   "cell_type": "code",
   "execution_count": 1,
   "metadata": {
    "collapsed": true
   },
   "outputs": [
    {
     "name": "stderr",
     "output_type": "stream",
     "text": [
      "/Users/renatolm/anaconda/lib/python2.7/site-packages/sklearn/lda.py:4: DeprecationWarning: lda.LDA has been moved to discriminant_analysis.LinearDiscriminantAnalysis in 0.17 and will be removed in 0.19\n",
      "  \"in 0.17 and will be removed in 0.19\", DeprecationWarning)\n"
     ]
    }
   ],
   "source": [
    "import numpy as np \n",
    "from sklearn.decomposition import PCA\n",
    "import pandas as pd \n",
    "from sklearn.linear_model import LogisticRegression\n",
    "from sklearn.lda import LDA\n",
    "from sklearn import metrics"
   ]
  },
  {
   "cell_type": "markdown",
   "metadata": {},
   "source": [
    "Leitura dos dados do arquivo csv (utilizando o pandas) e conversão para arrays do numpy (necessário para aplicar o PCA do scikit-learn)"
   ]
  },
  {
   "cell_type": "code",
   "execution_count": 3,
   "metadata": {
    "collapsed": true
   },
   "outputs": [],
   "source": [
    "data = pd.read_csv('data1.csv')\n",
    "array = data.values"
   ]
  },
  {
   "cell_type": "markdown",
   "metadata": {},
   "source": [
    "Separando os dados entre:\n",
    "- Atributos: primeiras 166 colunas\n",
    "- Classes: última coluna"
   ]
  },
  {
   "cell_type": "code",
   "execution_count": 4,
   "metadata": {
    "collapsed": true
   },
   "outputs": [],
   "source": [
    "X = array[:,0:165]\n",
    "Y = array[:,166]"
   ]
  },
  {
   "cell_type": "markdown",
   "metadata": {},
   "source": [
    "Inicialmente, é aplicado o PCA considerando todos os atributos de cada amostra e então é verificada a variância acumulada."
   ]
  },
  {
   "cell_type": "code",
   "execution_count": 6,
   "metadata": {
    "collapsed": false
   },
   "outputs": [
    {
     "name": "stdout",
     "output_type": "stream",
     "text": [
      "[ 31.37  45.37  53.01  58.15  62.86  66.96  70.15  73.2   75.2   76.93\n",
      "  78.48  79.9   81.23  82.49  83.59  84.58  85.45  86.27  87.03  87.75\n",
      "  88.43  89.07  89.7   90.29  90.85  91.37  91.87  92.36  92.83  93.27\n",
      "  93.67  94.07  94.44  94.77  95.06  95.34  95.61  95.87  96.1   96.3   96.5\n",
      "  96.69  96.87  97.04  97.2   97.34  97.48  97.62  97.74  97.86  97.97\n",
      "  98.08  98.18  98.28  98.37  98.45  98.53  98.61  98.68  98.75  98.81\n",
      "  98.87  98.93  98.98  99.03  99.08  99.13  99.17  99.21  99.25  99.28\n",
      "  99.31  99.34  99.37  99.4   99.43  99.46  99.49  99.51  99.53  99.55\n",
      "  99.57  99.59  99.61  99.63  99.65  99.67  99.69  99.7   99.71  99.72\n",
      "  99.73  99.74  99.75  99.76  99.77  99.78  99.79  99.8   99.81  99.82\n",
      "  99.83  99.84  99.85  99.86  99.87  99.88  99.89  99.9   99.91  99.92\n",
      "  99.93  99.94  99.94  99.94  99.94  99.94  99.94  99.94  99.94  99.94\n",
      "  99.94  99.94  99.94  99.94  99.94  99.94  99.94  99.94  99.94  99.94\n",
      "  99.94  99.94  99.94  99.94  99.94  99.94  99.94  99.94  99.94  99.94\n",
      "  99.94  99.94  99.94  99.94  99.94  99.94  99.94  99.94  99.94  99.94\n",
      "  99.94  99.94  99.94  99.94  99.94  99.94  99.94  99.94  99.94  99.94\n",
      "  99.94  99.94  99.94  99.94]\n"
     ]
    }
   ],
   "source": [
    "pca = PCA()\n",
    "pca.fit(X)\n",
    "\n",
    "var=np.cumsum(np.round(pca.explained_variance_ratio_, decimals=4)*100)\n",
    "\n",
    "print var"
   ]
  },
  {
   "cell_type": "markdown",
   "metadata": {},
   "source": [
    "Pela variância acumulada acima, podemos ver que para manter pelo menos 80% da variância original precisamos considerar <b>13 componentes</b> na transformação do PCA.\n",
    "Aplicando o PCA novamente, agora com o número de componentes desejado e salvando os dados transformados."
   ]
  },
  {
   "cell_type": "code",
   "execution_count": 7,
   "metadata": {
    "collapsed": true
   },
   "outputs": [],
   "source": [
    "pca = PCA(n_components=13)\n",
    "X_transf = pca.fit_transform(X)"
   ]
  },
  {
   "cell_type": "markdown",
   "metadata": {},
   "source": [
    "Agora os dados do conjunto original e os dados transformados pelo PCA serão utilizados para treinar dois modelos de regressão logística. Apenas os 200 primeiros dados de cada conjunto serão utilizados no treinamento."
   ]
  },
  {
   "cell_type": "code",
   "execution_count": 8,
   "metadata": {
    "collapsed": true
   },
   "outputs": [],
   "source": [
    "model = LogisticRegression()\n",
    "model = model.fit(X[:200,:],Y[:200])\n",
    "\n",
    "model_transf = LogisticRegression()\n",
    "model_transf = model_transf.fit(X_transf[:200,:],Y[:200])"
   ]
  },
  {
   "cell_type": "markdown",
   "metadata": {},
   "source": [
    "Os modelos treinados agora serão testados no restante dos dados dos respectivos conjuntos."
   ]
  },
  {
   "cell_type": "code",
   "execution_count": 9,
   "metadata": {
    "collapsed": true
   },
   "outputs": [],
   "source": [
    "predicted = model.predict(X[200:])\n",
    "\n",
    "predicted_transf = model_transf.predict(X_transf[200:])"
   ]
  },
  {
   "cell_type": "markdown",
   "metadata": {},
   "source": [
    "E então podemos verificar a acurácia de cada modelo na classificação:"
   ]
  },
  {
   "cell_type": "code",
   "execution_count": 10,
   "metadata": {
    "collapsed": false
   },
   "outputs": [
    {
     "name": "stdout",
     "output_type": "stream",
     "text": [
      "Acuracia da regressao logistica no conjunto de dados original: 0.797101449275\n",
      "Acuracia da regressao logistica no conjunto de dados transformado: 0.800724637681\n"
     ]
    }
   ],
   "source": [
    "print \"Acuracia da regressao logistica no conjunto de dados original: \"+ \\\n",
    "    str(metrics.accuracy_score(Y[200:], predicted))\n",
    "print \"Acuracia da regressao logistica no conjunto de dados transformado: \"+ \\\n",
    "    str(metrics.accuracy_score(Y[200:], predicted_transf))"
   ]
  },
  {
   "cell_type": "markdown",
   "metadata": {},
   "source": [
    "Repetindo o procedimento para o LDA e verificando a acurácia dos modelos:"
   ]
  },
  {
   "cell_type": "code",
   "execution_count": 11,
   "metadata": {
    "collapsed": false
   },
   "outputs": [
    {
     "name": "stdout",
     "output_type": "stream",
     "text": [
      "Acuracia do LDA no conjunto de dados original: 0.677536231884\n",
      "Acuracia do LDA no conjunto de dados transformado: 0.79347826087\n"
     ]
    }
   ],
   "source": [
    "model_LDA = LDA()\n",
    "model_LDA = model_LDA.fit(X[:200],Y[:200])\n",
    "\n",
    "model_LDA_transf = LDA()\n",
    "model_LDA_transf = model_LDA_transf.fit(X_transf[:200],Y[:200])\n",
    "\n",
    "predicted_LDA = model_LDA.predict(X[200:])\n",
    "\n",
    "predicted_LDA_transf = model_LDA_transf.predict(X_transf[200:])\n",
    "\n",
    "print \"Acuracia do LDA no conjunto de dados original: \"+ \\\n",
    "    str(metrics.accuracy_score(Y[200:], predicted_LDA))\n",
    "print \"Acuracia do LDA no conjunto de dados transformado: \"+ \\\n",
    "    str(metrics.accuracy_score(Y[200:], predicted_LDA_transf))"
   ]
  },
  {
   "cell_type": "markdown",
   "metadata": {},
   "source": [
    "Baseado nos resultados das acurácias, verificamos que o melhor modelo para a classificação dos dados é o que utiliza <b>Regressão Logística com PCA</b>."
   ]
  }
 ],
 "metadata": {
  "anaconda-cloud": {},
  "kernelspec": {
   "display_name": "Python [Root]",
   "language": "python",
   "name": "Python [Root]"
  },
  "language_info": {
   "codemirror_mode": {
    "name": "ipython",
    "version": 2
   },
   "file_extension": ".py",
   "mimetype": "text/x-python",
   "name": "python",
   "nbconvert_exporter": "python",
   "pygments_lexer": "ipython2",
   "version": "2.7.12"
  }
 },
 "nbformat": 4,
 "nbformat_minor": 0
}
