{
 "cells": [
  {
   "cell_type": "markdown",
   "metadata": {},
   "source": [
    "# Exercício 3 - MO444 - Aprendizado de máquina\n",
    "### Nome: Renato Lopes Moura\n",
    "### RA: 163050"
   ]
  },
  {
   "cell_type": "markdown",
   "metadata": {},
   "source": [
    "Importando os módulos que serão utilizados no exercício."
   ]
  },
  {
   "cell_type": "code",
   "execution_count": 1,
   "metadata": {
    "collapsed": true
   },
   "outputs": [],
   "source": [
    "import numpy as np\n",
    "import pandas as pd\n",
    "from sklearn.preprocessing import Imputer\n",
    "from sklearn.preprocessing import scale\n",
    "from sklearn.decomposition import PCA\n",
    "from sklearn.model_selection import StratifiedKFold\n",
    "from sklearn.model_selection import GridSearchCV\n",
    "from sklearn.neighbors import KNeighborsClassifier\n",
    "from sklearn.svm import SVC\n",
    "from sklearn.neural_network import MLPClassifier\n",
    "from sklearn.ensemble import RandomForestClassifier\n",
    "from sklearn.ensemble import GradientBoostingClassifier"
   ]
  },
  {
   "cell_type": "markdown",
   "metadata": {},
   "source": [
    "Preparação dos dados para validação."
   ]
  },
  {
   "cell_type": "code",
   "execution_count": 2,
   "metadata": {
    "collapsed": true
   },
   "outputs": [],
   "source": [
    "#Carregando o conjunto de dados e as respectivas classes utilizando o pandas\n",
    "data = pd.read_table('secom.data', sep=' ', header=None, index_col=False)\n",
    "data_class = pd.read_table('secom_labels.data', sep=' ', header=None, index_col=False)\n",
    "\n",
    "#Separando os dados em atributos e classes\n",
    "X = data.values\n",
    "Y = data_class.iloc[:,0].values\n",
    "\n",
    "#Instanciando o objeto Imputer para executar a imputacao de valores \n",
    "#faltantes pela media e aplicando no conjunto de dados\n",
    "imp = Imputer(missing_values='NaN', strategy='mean', axis=0)\n",
    "\n",
    "X = imp.fit_transform(X)\n",
    "\n",
    "#Aplicando padronizacao nas colunas para media 0 e desvio padrao 1\n",
    "X = scale(X)"
   ]
  },
  {
   "cell_type": "code",
   "execution_count": 3,
   "metadata": {
    "collapsed": false
   },
   "outputs": [
    {
     "name": "stdout",
     "output_type": "stream",
     "text": [
      "A acuracia do KNN eh 0.929811912242\n"
     ]
    }
   ],
   "source": [
    "##############################################################################\n",
    "#Classificacao utilizando o algoritmo kNN\n",
    "\n",
    "pca = PCA(0.8)\n",
    "X_pca = pca.fit_transform(X)\n",
    "\n",
    "knn_parameters = {'n_neighbors':[1,5,11,15,21,25]}\n",
    "\n",
    "acc_knn = 0\n",
    "\n",
    "external = StratifiedKFold(n_splits=5)\n",
    "\n",
    "for train, test in external.split(X_pca,Y):\n",
    "\tdata_train = X_pca[train]\n",
    "\tdata_test = X_pca[test]\n",
    "\tclasses_train = Y[train]\n",
    "\tclasses_test = Y[test]\n",
    "\n",
    "\tgrid = GridSearchCV(KNeighborsClassifier(), knn_parameters, cv=3)\n",
    "\tgrid.fit(data_train, classes_train)\n",
    "\n",
    "\tknn = KNeighborsClassifier(n_neighbors=grid.best_params_['n_neighbors'])\n",
    "\tknn.fit(data_train, classes_train)\n",
    "\n",
    "\tacc_knn = acc_knn + knn.score(data_test, classes_test)\n",
    "\n",
    "acc_knn = acc_knn / 5\n",
    "\n",
    "print \"A acuracia do KNN eh \"+str(acc_knn)"
   ]
  },
  {
   "cell_type": "code",
   "execution_count": 4,
   "metadata": {
    "collapsed": false
   },
   "outputs": [
    {
     "name": "stdout",
     "output_type": "stream",
     "text": [
      "A acuracia do SVM eh 0.933633568293\n"
     ]
    }
   ],
   "source": [
    "##############################################################################\n",
    "#Classificacao utilizando o algoritmo SVM com kernel RBF\n",
    "\n",
    "svm_parameters = {'C':[2**(-5), 2**(0), 2**(5), 2**(10)],\n",
    " 'gamma':[2**(-15), 2**(-10), 2**(-5), 2**(0), 2**(5)]}\n",
    "\n",
    "acc_svm = 0\n",
    "\n",
    "external = StratifiedKFold(n_splits=5)\n",
    "\n",
    "for train, test in external.split(X,Y):\n",
    "\tdata_train = X[train]\n",
    "\tdata_test = X[test]\n",
    "\tclasses_train = Y[train]\n",
    "\tclasses_test = Y[test]\n",
    "\n",
    "\tgrid = GridSearchCV(SVC(kernel='rbf'), svm_parameters, cv=3)\n",
    "\tgrid.fit(data_train, classes_train)\n",
    "\n",
    "\tsvm = SVC(C=grid.best_params_['C'], gamma=grid.best_params_['gamma'], kernel='rbf')\n",
    "\tsvm.fit(data_train, classes_train)\n",
    "\n",
    "\tacc_svm = acc_svm + svm.score(data_test, classes_test)\n",
    "\n",
    "acc_svm = acc_svm / 5\n",
    "\n",
    "print \"A acuracia do SVM eh \"+str(acc_svm)"
   ]
  },
  {
   "cell_type": "code",
   "execution_count": 5,
   "metadata": {
    "collapsed": false
   },
   "outputs": [
    {
     "name": "stdout",
     "output_type": "stream",
     "text": [
      "A acuracia da Rede Neural eh 0.792154913725\n"
     ]
    }
   ],
   "source": [
    "##############################################################################\n",
    "#Classificacao utilizando uma rede neural\n",
    "\n",
    "nn_parameters = {'hidden_layer_sizes':[10,20,30,40]}\n",
    "\n",
    "acc_nn = 0\n",
    "\n",
    "external = StratifiedKFold(n_splits=5)\n",
    "\n",
    "for train, test in external.split(X,Y):\n",
    "\tdata_train = X[train]\n",
    "\tdata_test = X[test]\n",
    "\tclasses_train = Y[train]\n",
    "\tclasses_test = Y[test]\n",
    "\n",
    "\tgrid = GridSearchCV(MLPClassifier(solver='lbfgs'), nn_parameters, cv=3)\n",
    "\tgrid.fit(data_train, classes_train)\n",
    "\n",
    "\tnnet = MLPClassifier(hidden_layer_sizes=grid.best_params_['hidden_layer_sizes'],\n",
    "\t solver='lbfgs')\n",
    "\tnnet.fit(data_train, classes_train)\n",
    "\n",
    "\tacc_nn = acc_nn + nnet.score(data_test, classes_test)\n",
    "\n",
    "acc_nn = acc_nn / 5\n",
    "\n",
    "print \"A acuracia da Rede Neural eh \"+str(acc_nn)"
   ]
  },
  {
   "cell_type": "code",
   "execution_count": 6,
   "metadata": {
    "collapsed": false
   },
   "outputs": [
    {
     "name": "stdout",
     "output_type": "stream",
     "text": [
      "A acuracia da Random Forest eh 0.933633568293\n"
     ]
    }
   ],
   "source": [
    "##############################################################################\n",
    "#Classificacao utilizando o algoritmo Random Forest\n",
    "\n",
    "rf_parameters = {'max_features':[10,15,20,25],'n_estimators':[100,200,300,400]}\n",
    "\n",
    "acc_rf = 0\n",
    "\n",
    "external = StratifiedKFold(n_splits=5)\n",
    "\n",
    "for train, test in external.split(X,Y):\n",
    "\tdata_train = X[train]\n",
    "\tdata_test = X[test]\n",
    "\tclasses_train = Y[train]\n",
    "\tclasses_test = Y[test]\n",
    "\n",
    "\tgrid = GridSearchCV(RandomForestClassifier(), rf_parameters, cv=3)\n",
    "\tgrid.fit(data_train, classes_train)\n",
    "\n",
    "\trf = RandomForestClassifier(max_features=grid.best_params_['max_features'],\n",
    "\t n_estimators=grid.best_params_['n_estimators'])\n",
    "\trf.fit(data_train, classes_train)\n",
    "\n",
    "\tacc_rf = acc_rf + rf.score(data_test, classes_test)\n",
    "\n",
    "acc_rf = acc_rf / 5\n",
    "\n",
    "print \"A acuracia da Random Forest eh \"+str(acc_rf)"
   ]
  },
  {
   "cell_type": "code",
   "execution_count": 7,
   "metadata": {
    "collapsed": false
   },
   "outputs": [
    {
     "name": "stdout",
     "output_type": "stream",
     "text": [
      "A acuracia do GBM eh 0.839345689719\n"
     ]
    }
   ],
   "source": [
    "##############################################################################\n",
    "#Classificacao utilizando o algoritmo Gradient Boosting Machine\n",
    "\n",
    "gbm_parameters = {'n_estimators':[30,70,100],'learning_rate':[0.1,0.05],'max_depth':[5]}\n",
    "\n",
    "acc_gbm = 0\n",
    "\n",
    "external = StratifiedKFold(n_splits=5)\n",
    "\n",
    "for train, test in external.split(X,Y):\n",
    "\tdata_train = X[train]\n",
    "\tdata_test = X[test]\n",
    "\tclasses_train = Y[train]\n",
    "\tclasses_test = Y[test]\n",
    "\n",
    "\tgrid = GridSearchCV(GradientBoostingClassifier(), gbm_parameters, cv=3)\n",
    "\tgrid.fit(data_train, classes_train)\n",
    "\n",
    "\tgbm = GradientBoostingClassifier(n_estimators=grid.best_params_['n_estimators'],\n",
    "\t learning_rate=grid.best_params_['learning_rate'],\n",
    "\t  max_depth=grid.best_params_['max_depth'])\n",
    "\tgbm.fit(data_train, classes_train)\n",
    "\n",
    "\tacc_gbm = acc_gbm + gbm.score(data_test, classes_test)\n",
    "\n",
    "acc_gbm = acc_gbm / 5\n",
    "\n",
    "print \"A acuracia do GBM eh \"+str(acc_gbm)"
   ]
  },
  {
   "cell_type": "markdown",
   "metadata": {},
   "source": [
    "Portanto os algoritmos que possuem a maior acurácia para este conjunto de dados são SVM e Random Forest."
   ]
  }
 ],
 "metadata": {
  "anaconda-cloud": {},
  "kernelspec": {
   "display_name": "Python [Root]",
   "language": "python",
   "name": "Python [Root]"
  },
  "language_info": {
   "codemirror_mode": {
    "name": "ipython",
    "version": 2
   },
   "file_extension": ".py",
   "mimetype": "text/x-python",
   "name": "python",
   "nbconvert_exporter": "python",
   "pygments_lexer": "ipython2",
   "version": "2.7.12"
  }
 },
 "nbformat": 4,
 "nbformat_minor": 0
}
